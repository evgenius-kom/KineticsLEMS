{
 "cells": [
  {
   "cell_type": "code",
   "execution_count": 1,
   "id": "39d06f69-39ac-441f-89c8-bb3b83dceb56",
   "metadata": {},
   "outputs": [],
   "source": [
    "import os\n",
    "import re\n",
    "import sys\n",
    "import json\n",
    "import shutil\n",
    "import argparse\n",
    "\n",
    "from enum import Enum\n",
    "from typing import List, Dict"
   ]
  },
  {
   "cell_type": "code",
   "execution_count": null,
   "id": "91e5730c-e490-4b96-be12-a44e749f56c9",
   "metadata": {},
   "outputs": [],
   "source": []
  },
  {
   "cell_type": "code",
   "execution_count": 448,
   "id": "d64e962b-69ea-458d-a91f-9dde77ee6d1a",
   "metadata": {},
   "outputs": [],
   "source": [
    "import numpy as np\n",
    "import matplotlib as mpl\n",
    "import matplotlib.pyplot as plt\n",
    "%matplotlib inline\n",
    "\n",
    "from scipy.signal import find_peaks\n",
    "from scipy import integrate"
   ]
  },
  {
   "cell_type": "code",
   "execution_count": 420,
   "id": "ec5c009c-dc58-46ed-8631-59f09b0838a2",
   "metadata": {},
   "outputs": [],
   "source": [
    "CELSIUS = '°C'\n",
    "\n",
    "ALPHA = 'α'\n",
    "BETA = 'β'"
   ]
  },
  {
   "cell_type": "code",
   "execution_count": 556,
   "id": "86146fdb-788a-4863-8ea9-54525fda1fc4",
   "metadata": {},
   "outputs": [],
   "source": [
    "R = 8.314  # gas constant\n",
    "\n",
    "DOYLE_APPROXIMATION_CONSTANT = 1.052\n",
    "\n",
    "FROM_KILO_COEF = 0.001"
   ]
  },
  {
   "cell_type": "code",
   "execution_count": 90,
   "id": "83c6782a-609f-47e6-a5d0-5e02ac85a747",
   "metadata": {},
   "outputs": [],
   "source": [
    "# 2D-curve\n",
    "class Wave:\n",
    "    def __init__(self):\n",
    "        self.x = []\n",
    "        self.y = []\n",
    "        # self.bl = self._baseline()\n",
    "    \n",
    "    def __len__(self):\n",
    "        assert(len(self.x) == len(self.y))\n",
    "        return len(self.x)\n",
    "\n",
    "    # TODO: add size check\n",
    "    def __sub__(self, other: Wave) -> Wave:\n",
    "        sub_wave = Wave()\n",
    "        sub_wave.x = self.x\n",
    "        sub_wave.y = [item1 - item2 for (item1, item2) in zip(self.y, other.y)]\n",
    "        return sub_wave\n",
    "\n",
    "    def add_point(self, x: float, y: float):\n",
    "        self.x.append(x)\n",
    "        self.y.append(y)\n",
    "\n",
    "    def np_x(self) -> np.ndarray:\n",
    "        return np.array(self.x)\n",
    "\n",
    "    def np_y(self) -> np.ndarray:\n",
    "        return np.array(self.y)\n",
    "    \n",
    "    # only linear so far\n",
    "    def baseline(self) -> Wave:\n",
    "        line = Wave()\n",
    "        for i, _ in enumerate(self.y):\n",
    "            new_x = self.x[i]\n",
    "            new_y = np.interp(new_x, [self.x[0], self.x[-1]], [self.y[0], self.y[-1]])\n",
    "            line.add_point(new_x, new_y)\n",
    "        return line\n",
    "\n",
    "    # def do_subtract_baseline(self):\n",
    "    #     self -= self.bl\n",
    "\n",
    "    # TODO: overload operators to work with waves"
   ]
  },
  {
   "cell_type": "code",
   "execution_count": 72,
   "id": "91698944-d38a-4a0b-b125-8402d177cb46",
   "metadata": {},
   "outputs": [],
   "source": [
    "VERSION_FIELD  = \"Version\"\n",
    "SETTINGS_FIELD = \"Settings\"\n",
    "\n",
    "# fields in the app_settings.json file\n",
    "CASE_PATH_FIELD = \"PathToArchive\"\n",
    "\n",
    "# fields in the case settings.json file\n",
    "MATERIAL_FIELD   = \"Material\"\n",
    "EXP_TYPE_FIELD   = \"ExperimentType\"\n",
    "METHOD_FIELD     = \"Method\"\n",
    "CONDITIONS_FIELD = \"Conditions\""
   ]
  },
  {
   "cell_type": "code",
   "execution_count": 7,
   "id": "683ff35e-26ff-4cf8-ba11-d693198f1534",
   "metadata": {},
   "outputs": [],
   "source": [
    "class Extension(Enum):\n",
    "    TXT = 1,  # TODO: \".txt\"\n",
    "    ZIP = 2,\n",
    "    JSON = 3\n",
    "\n",
    "TXT_EXTENSION  = \".txt\"\n",
    "ZIP_EXTENSION  = \".zip\"\n",
    "JSON_EXTENSION = \".json\"\n",
    "\n",
    "OUTPUT_FOLDER = \"Output\"\n",
    "\n",
    "CASE_SETTINGS_FILENAME = \"settings\"\n",
    "CASE_SETTINGS_FILE     = CASE_SETTINGS_FILENAME + JSON_EXTENSION\n",
    "\n",
    "APP_SETTINGS_FILENAME = \"app_settings\"\n",
    "APP_SETTINGS_FILE     = APP_SETTINGS_FILENAME + JSON_EXTENSION"
   ]
  },
  {
   "cell_type": "code",
   "execution_count": 8,
   "id": "5c7255e0-b6e3-4a33-8be8-632488fa1d5f",
   "metadata": {},
   "outputs": [],
   "source": [
    "class X(Enum):\n",
    "    TEMPERATURE = 1,  # TODO: \"Temperature\"\n",
    "    TIME = 2\n",
    "\n",
    "class Y(Enum):\n",
    "    HEAT_FLOW = 1,\n",
    "    MASS = 2,\n",
    "    OPT_DENSITY = 3\n",
    "\n",
    "class ExpType(Enum):\n",
    "    ISOTHERMAL = 1,\n",
    "    HEATING = 2,\n",
    "    COOLING = 3,\n",
    "    INVALID = 4\n",
    "\n",
    "class Method(Enum):\n",
    "    DSC = 1,    # differential scanning calorimetry\n",
    "    TGA = 2,    # thermogravimetry\n",
    "    FSC = 3,    # fast scanning calorimetry on a chip, or nanocalorimetry\n",
    "    POM = 4,    # polarized optical microscopy\n",
    "    INVALID = 5"
   ]
  },
  {
   "cell_type": "code",
   "execution_count": 9,
   "id": "bd8cefb4-1541-4a8c-95ee-5acb552250e2",
   "metadata": {},
   "outputs": [],
   "source": [
    "class ExperimentData:\n",
    "    def __init__(self):\n",
    "        pass\n",
    "\n",
    "class CaseParams:\n",
    "    def __init__(self, material: str, \n",
    "                 exp_type: ExpType, \n",
    "                 method: Method, \n",
    "                 file_to_cond_map: Dict[str, float]):\n",
    "        self.material = material\n",
    "        self.exp_type = exp_type\n",
    "        self.method = method\n",
    "        self.file_to_cond_map = file_to_cond_map\n",
    "\n",
    "class CaseData:\n",
    "    def __init__(self, path: str,\n",
    "                 params: CaseParams, \n",
    "                 waves: Dict[float, Wave]):\n",
    "        self.path = path\n",
    "        self.params = params\n",
    "        self.waves = waves"
   ]
  },
  {
   "cell_type": "code",
   "execution_count": 10,
   "id": "b770b4e6-2ba6-4fdc-95eb-234381a07788",
   "metadata": {},
   "outputs": [],
   "source": [
    "# parse file with experiment data\n",
    "class WaveReader:\n",
    "    def __init__(self, path: str):\n",
    "        self.file_path = path\n",
    "    \n",
    "    def read(self) -> Wave:\n",
    "        wave = Wave()\n",
    "        # np.loadtxt(self.file_path, ndmin=2)\n",
    "        with open(self.file_path, 'r', encoding='UTF-8') as file:\n",
    "            for line in file:\n",
    "                try:\n",
    "                    line = line.replace(',', '.')[:-1]  # remove '\\n' from the end\n",
    "                    x, y = re.split(' |\\t', line)\n",
    "                    # print(\"x = {} -> y = {}\".format(x, y), end='')\n",
    "                    wave.add_point(float(x), float(y))\n",
    "                except BaseException as e:\n",
    "                    print(\"\\\"{}\\\" -> {}\".format(line, e))\n",
    "        return wave"
   ]
  },
  {
   "cell_type": "code",
   "execution_count": 11,
   "id": "3dc9b7c2-a448-47bf-99b2-bbe284a3d28a",
   "metadata": {},
   "outputs": [],
   "source": [
    "class CaseParamsParser:\n",
    "    def __init__(self, path: str):\n",
    "        with open(path) as f:\n",
    "            json_params = json.load(f)\n",
    "            if SETTINGS_FIELD not in json_params:\n",
    "                raise ValueError(\"No \" + SETTINGS_FIELD + \" field in the settings file\")\n",
    "            elif (json_params := json_params[SETTINGS_FIELD]) and isinstance(json_params, dict):  # TODO: check isinstance\n",
    "                raise ValueError(SETTINGS_FIELD + \" : is not an array\")\n",
    "            else:\n",
    "                self.json = json_params\n",
    "                # print(self.json)\n",
    "\n",
    "    def parse(self) -> CaseParams:\n",
    "        material = \"\"\n",
    "        exp_type = ExpType.INVALID\n",
    "        method = Method.INVALID\n",
    "        file_to_cond_map = dict()\n",
    "        \n",
    "        # TODO: make this parsing simpler\n",
    "        for item in self.json:\n",
    "            if item[\"name\"] == MATERIAL_FIELD:\n",
    "                material = item[\"value\"]\n",
    "            elif item[\"name\"] == EXP_TYPE_FIELD:\n",
    "                if item[\"value\"] == \"isothermal\":\n",
    "                    exp_type = ExpType.ISOTHERMAL\n",
    "                elif item[\"value\"] == \"heating\":\n",
    "                    exp_type = ExpType.HEATING\n",
    "                elif item[\"value\"] == \"cooling\":\n",
    "                    exp_type = ExpType.COOLING\n",
    "                else:\n",
    "                    raise ValueError(\"Invalid experiment type found\")\n",
    "            elif item[\"name\"] == METHOD_FIELD:\n",
    "                if item[\"value\"] == \"DSC\":\n",
    "                    method = Method.DSC\n",
    "                elif item[\"value\"] == \"TGA\":\n",
    "                    method = Method.TGA\n",
    "                elif item[\"value\"] == \"FSC\":\n",
    "                    method = Method.FSC\n",
    "                elif item[\"value\"] == \"POM\":\n",
    "                    method = Method.POM\n",
    "                else:\n",
    "                    raise ValueError(\"Invalid method type found\")\n",
    "            elif item[\"name\"] == CONDITIONS_FIELD:\n",
    "                # value = rate or temperature\n",
    "                for file, value in item[\"value\"].items():\n",
    "                    # TODO: do extra check of values\n",
    "                    file_to_cond_map[file] = float(value)\n",
    "\n",
    "        return CaseParams(material, exp_type, method, file_to_cond_map)"
   ]
  },
  {
   "cell_type": "code",
   "execution_count": 12,
   "id": "6e82cd63-d0ff-4932-8cba-665b944deabb",
   "metadata": {},
   "outputs": [],
   "source": [
    "class ZipUnpacker:\n",
    "    def __init__(self, path: str):\n",
    "        if not os.path.exists(path) or os.path.splitext(path)[-1] != ZIP_EXTENSION:\n",
    "            raise ValueError(\"Incorrect path to the case archive\")\n",
    "        self.archive_path = path\n",
    "\n",
    "    def unzip(self) -> str:\n",
    "        archive_path, archive_name = os.path.split(self.archive_path)\n",
    "        folder_name = os.path.splitext(archive_name)[0]\n",
    "        shutil.unpack_archive(self.archive_path, archive_path)\n",
    "        folder_path = os.path.join(archive_path, folder_name)\n",
    "        return folder_path"
   ]
  },
  {
   "cell_type": "code",
   "execution_count": 13,
   "id": "b511a775-fe96-4939-ab85-8a74920ab7d9",
   "metadata": {},
   "outputs": [],
   "source": [
    "class CaseLoader:\n",
    "    def __init__(self, path: str):\n",
    "        self.archive_path = path\n",
    "\n",
    "    def load(self) -> CaseData:\n",
    "        folder_path = ZipUnpacker(self.archive_path).unzip()\n",
    "\n",
    "        settings_path = os.path.join(folder_path, CASE_SETTINGS_FILE)\n",
    "        case_params = CaseParamsParser(settings_path).parse()\n",
    "\n",
    "        waves = dict()\n",
    "        for file, value in case_params.file_to_cond_map.items():\n",
    "            file_path = os.path.join(folder_path, file)\n",
    "            waves[value] = WaveReader(file_path).read()\n",
    "\n",
    "        return CaseData(folder_path, case_params, waves)"
   ]
  },
  {
   "cell_type": "code",
   "execution_count": 104,
   "id": "ec671df7-badd-4792-b538-9d66cf678e85",
   "metadata": {},
   "outputs": [],
   "source": [
    "class Plotter:\n",
    "    def __init__(self):\n",
    "        pass"
   ]
  },
  {
   "cell_type": "code",
   "execution_count": 15,
   "id": "a022609d-9979-461c-8829-1a08a765c032",
   "metadata": {},
   "outputs": [],
   "source": [
    "class KineticsData:\n",
    "    def __init__(self):\n",
    "        pass"
   ]
  },
  {
   "cell_type": "code",
   "execution_count": 211,
   "id": "ca16c464-a5f0-4abb-9cfd-901d7178f169",
   "metadata": {},
   "outputs": [],
   "source": [
    "# initial wave\n",
    "# conversion wave\n",
    "# experiment conditions\n",
    "class ResultDscData:\n",
    "    def __init__(self):\n",
    "        self.peak_wave = Wave()  # peak with subtracted baseline\n",
    "        self.conv_wave = Wave()  # normalized kinetics curve\n",
    "        self.temperatures = []  # temperature values for approximated lines"
   ]
  },
  {
   "cell_type": "code",
   "execution_count": 595,
   "id": "f2f0af35-ebb2-4082-adbd-b21cd20a30c9",
   "metadata": {},
   "outputs": [],
   "source": [
    "class IsoConvMethod:\n",
    "    def __init__(self):\n",
    "        ..."
   ]
  },
  {
   "cell_type": "code",
   "execution_count": 577,
   "id": "85f8e0e5-cc85-466d-91f7-5dd1c01d6c1d",
   "metadata": {},
   "outputs": [],
   "source": [
    "# archive_path = './input/ABPOT/TestData.zip'\n",
    "archive_path = './input/ABPOT/OnlyPeakTestData.zip'\n",
    "\n",
    "def main():\n",
    "#     parser = argparse.ArgumentParser()\n",
    "#     parser.add_argument('archive_path', type=str)\n",
    "#     args = parser.parse_args()\n",
    "#     args.archive_path = archive_path\n",
    "\n",
    "    try:\n",
    "        case_data = CaseLoader(archive_path).load()\n",
    "\n",
    "        # mpl.rcParams['font.sans-serif'] = \"Comic Sans MS\"\n",
    "        # mpl.rcParams['font.family'] = \"sans-serif\"\n",
    "        plt.figure(figsize=(7, 5), dpi=100)\n",
    "        # plt.legend()  # TODO: use conditions\n",
    "        # plt.title(\"Ozawa-Flynn-Wall Analysis\", fontsize=14)\n",
    "        # plt.title(\"Kissinger-Akahira-Sunose Analysis\", fontsize=14)\n",
    "        plt.title(\"Friedman Analysis\", fontsize=14)\n",
    "\n",
    "        # plt.title('DSC: {}'.format(case_data.params.material), fontsize=16)\n",
    "        # plt.xlabel('Temperature, K', fontsize=14)\n",
    "        # plt.ylabel('Heat Flow, mW', fontsize=14)\n",
    "        plt.xlabel('T⁻¹, K⁻¹', fontsize=14)\n",
    "        # plt.ylabel('ln({})'.format(BETA), fontsize=14)  # OFW\n",
    "        # plt.ylabel('ln({}/$T^2$)'.format(BETA), fontsize=14)  # KAS\n",
    "        plt.ylabel('ln(d{}/dt)'.format(ALPHA), fontsize=14)  # Friedman\n",
    "        \n",
    "        # plt.xlabel('Conversion', fontsize=14)\n",
    "        # plt.ylabel('Activation Energy, kJ', fontsize=14)\n",
    "        \n",
    "        plt.xlim([-0.05, 1.05])\n",
    "        plt.ylim([62.5, 107.5])        \n",
    "        plt.grid()\n",
    "        \n",
    "        step = 5  # min 1. TODO: move to settings\n",
    "        \n",
    "        conversions = [(conv / 100.) for conv in range(step, 100 - step + 1, step)]\n",
    "        conversions_count = len(conversions)\n",
    "\n",
    "        results_dict: Dict[float, ResultDscData] = {}\n",
    "\n",
    "        for rate, peak_wave in case_data.waves.items():\n",
    "            peak_wave_upd = peak_wave - peak_wave.baseline()\n",
    "            x = peak_wave_upd.np_x()\n",
    "            y = peak_wave_upd.np_y()\n",
    "            # plt.plot(x, y, '-', label='{}'.format(rate))\n",
    "            # peaks, properties = find_peaks(y, distance=5000)\n",
    "            # plt.plot(x[peaks], y[peaks], 'x', )\n",
    "            \n",
    "            result_data = ResultDscData()\n",
    "            result_data.peak_wave = peak_wave_upd\n",
    "\n",
    "            conv_wave = Wave()\n",
    "            conv_wave.x = x\n",
    "            conv_wave.y = np.cumsum(y)\n",
    "            conv_wave.y /= max(conv_wave.y)\n",
    "            # plt.plot(conv_wave.x, conv_wave.y, '-', label='{}'.format(rate))\n",
    "            result_data.conv_wave = conv_wave\n",
    "\n",
    "            temperatures = []\n",
    "            conv_id = 0\n",
    "            for i in range(len(peak_wave_upd)):\n",
    "                conversion = conversions[conv_id]\n",
    "                if conv_wave.y[i - 1] < conversion and conv_wave.y[i] > conversion:\n",
    "                    temperatures.append(conv_wave.x[i])\n",
    "                    conv_id += 1\n",
    "                if conv_id == conversions_count:\n",
    "                    break\n",
    "            result_data.temperatures = np.array(temperatures)\n",
    "            # print(temperatures)\n",
    "            results_dict[rate] = result_data\n",
    "        \n",
    "        colors = plt.cm.rainbow(np.linspace(0, 1, conversions_count))\n",
    "\n",
    "        Ea_wave = Wave()\n",
    "        for i in range(conversions_count):\n",
    "            x = []\n",
    "            y = []\n",
    "            for rate, dsc_data in results_dict.items():\n",
    "                inv_temp = 1. / dsc_data.temperatures[i]\n",
    "                x.append(inv_temp)\n",
    "                # y.append(np.log(rate / 60.))  # OFW\n",
    "                # y.append(np.log(rate / 60. * inv_temp**2))  # KAS\n",
    "                y.append()  # Friedman\n",
    "            \n",
    "            # plt.plot(x, y, c=colors[i], marker='*', ms = 8, linestyle='', label='{}'.format(rate))\n",
    "            coefs = np.polyfit(x, y, 1)\n",
    "            fit_line_y = np.polyval(coefs, x)\n",
    "            plt.plot(x, fit_line_y, c=colors[i], linestyle='-', lw=1, label='{}'.format(rate))\n",
    "            # Ea = -coefs[0] * R / DOYLE_APPROXIMATION_CONSTANT * FROM_KILO_COEF  # OFW\n",
    "            # Ea = -coefs[0] * R * FROM_KILO_COEF  # KAS\n",
    "            # Ea_wave.x.append(conversions[i])\n",
    "            # Ea_wave.y.append(Ea)\n",
    "        # plt.plot(Ea_wave.x, Ea_wave.y, color='b', marker='o', ms=8, label='{}'.format(rate))\n",
    "\n",
    "        plt.show()\n",
    "    except BaseException as e:\n",
    "        print(\"Bad case: {}\".format(e))"
   ]
  },
  {
   "cell_type": "code",
   "execution_count": 578,
   "id": "ab37308d-c8ea-4487-a1bc-ac4b03c88ec8",
   "metadata": {},
   "outputs": [
    {
     "data": {
      "image/png": "[encoded data removed]",
      "text/plain": [
       "<Figure size 700x500 with 1 Axes>"
      ]
     },
     "metadata": {
      "needs_background": "light"
     },
     "output_type": "display_data"
    }
   ],
   "source": [
    "main()"
   ]
  },
  {
   "cell_type": "code",
   "execution_count": null,
   "id": "fc202b26-eca0-458e-96fb-57601c1e40d4",
   "metadata": {},
   "outputs": [],
   "source": []
  },
  {
   "cell_type": "code",
   "execution_count": null,
   "id": "2989d3f4-29a8-4a04-a9b5-c1ed52c981ce",
   "metadata": {},
   "outputs": [],
   "source": []
  },
  {
   "cell_type": "code",
   "execution_count": null,
   "id": "d12c41b1-3ac9-415d-b230-a58cfae0c98f",
   "metadata": {},
   "outputs": [],
   "source": []
  },
  {
   "cell_type": "code",
   "execution_count": 593,
   "id": "e8af21c7-4712-4951-8804-7e970ebbad06",
   "metadata": {},
   "outputs": [
    {
     "data": {
      "text/latex": [
       "\n",
       "\n",
       "\n",
       "$$\\frac{dα}{dt} = A(α)f(α)exp(\\frac{-E(α)}{RT})$$\n"
      ],
      "text/plain": [
       "<IPython.core.display.Latex object>"
      ]
     },
     "metadata": {},
     "output_type": "display_data"
    }
   ],
   "source": [
    "%%latex\n",
    "\n",
    "\n",
    "\n",
    "$$\\frac{dα}{dt} = A(α)f(α)exp(\\frac{-E(α)}{RT})$$"
   ]
  },
  {
   "cell_type": "code",
   "execution_count": null,
   "id": "0632d83d-d0ef-4723-9f24-be6b71c53460",
   "metadata": {},
   "outputs": [],
   "source": []
  },
  {
   "cell_type": "code",
   "execution_count": null,
   "id": "a256d837-0577-4e89-b2c8-c3bd70d991fd",
   "metadata": {},
   "outputs": [],
   "source": []
  },
  {
   "cell_type": "code",
   "execution_count": null,
   "id": "ddeb82cf-ef6d-4ac9-abc3-0d4f24802c83",
   "metadata": {},
   "outputs": [],
   "source": []
  },
  {
   "cell_type": "code",
   "execution_count": 289,
   "id": "9c658580-3daf-467f-9313-0fcaee5af55d",
   "metadata": {},
   "outputs": [],
   "source": [
    "# add \"normalized\" as a parameter\n",
    "# provide with legends\n",
    "# !!! provide maybe 500 points for each initial curve\n",
    "# transform rate \"per min\" to rate \"per sec\"\n",
    "# move \"step\" in settings"
   ]
  },
  {
   "cell_type": "code",
   "execution_count": null,
   "id": "5115eb92-aa0b-46c3-9403-7f99b3366648",
   "metadata": {},
   "outputs": [],
   "source": [
    "# https://lingojam.com/SuperscriptGenerator"
   ]
  }
 ],
 "metadata": {
  "kernelspec": {
   "display_name": "Python 3 (ipykernel)",
   "language": "python",
   "name": "python3"
  },
  "language_info": {
   "codemirror_mode": {
    "name": "ipython",
    "version": 3
   },
   "file_extension": ".py",
   "mimetype": "text/x-python",
   "name": "python",
   "nbconvert_exporter": "python",
   "pygments_lexer": "ipython3",
   "version": "3.8.10"
  }
 },
 "nbformat": 4,
 "nbformat_minor": 5
}
